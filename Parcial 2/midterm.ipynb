{
 "cells": [
  {
   "cell_type": "markdown",
   "metadata": {},
   "source": [
    " ## Parcial II - Estructuras de Datos\n",
    "---\n",
    "\n",
    "-Juan Andres Ochaita Marroquin-  \n",
    "-20240563-"
   ]
  },
  {
   "cell_type": "markdown",
   "metadata": {},
   "source": [
    "### **Instrucciones:**\n",
    "\n",
    "Desarrolle su parcial en este notebook según las indicaciones en las siguientes celdas. Trabaje de forma ordenada y asegúrese que el notebook corra exitosamente antes de entregarlo (`clear all outputs` -> `restart` kernel -> `run all`). De esta misma manera se calificará su parcial. Un notebook que presente problemas en el `run all` será considerado inválido."
   ]
  },
  {
   "cell_type": "markdown",
   "metadata": {},
   "source": [
    "#### **1 - Binary Search Tree**\n",
    "---\n",
    "\n",
    "1.1 - En el archivo `bst.py`, agregue la clase de BST desarrollada en clase. Asegúrese de incluir el método *pretty_print()*.\n",
    "\n",
    "1.2 - Instanciar un BST y agregar 25 elementos cualesquiera. Luego, demostrar que las operaciones de *insert()*, *delete()* y *search()* funcionan como esperado en un Binary Search Tree. Dejar constancia de cada una de estas operaciones con el método *pretty_print()*."
   ]
  },
  {
   "cell_type": "code",
   "execution_count": 1,
   "metadata": {},
   "outputs": [],
   "source": [
    "from avl import AVLTree\n",
    "from bst import BinarySearchTree\n",
    "\n",
    "import sys\n",
    "sys.setrecursionlimit(100000) \n",
    "\n",
    "import matplotlib.pyplot as plt"
   ]
  },
  {
   "cell_type": "markdown",
   "metadata": {},
   "source": [
    "#### **1.2 - Binary Search Tree**\n"
   ]
  },
  {
   "cell_type": "code",
   "execution_count": 2,
   "metadata": {},
   "outputs": [
    {
     "name": "stdout",
     "output_type": "stream",
     "text": [
      "\n",
      "2\n",
      " \\\n",
      " 4\n",
      "  \\\n",
      "  6\n",
      "   \\\n",
      "   8_\n",
      "     \\\n",
      "    10_\n",
      "       \\\n",
      "      12_\n",
      "         \\\n",
      "        14_\n",
      "           \\\n",
      "          16_\n",
      "             \\\n",
      "            18_\n",
      "               \\\n",
      "              20_\n",
      "                 \\\n",
      "                22_\n",
      "                   \\\n",
      "                  24_\n",
      "                     \\\n",
      "                    26_\n",
      "                       \\\n",
      "                      28_\n",
      "                         \\\n",
      "                        30_\n",
      "                           \\\n",
      "                          32_\n",
      "                             \\\n",
      "                            34_\n",
      "                               \\\n",
      "                              36_\n",
      "                                 \\\n",
      "                                38_\n",
      "                                   \\\n",
      "                                  40_\n",
      "                                     \\\n",
      "                                    42_\n",
      "                                       \\\n",
      "                                      44_\n",
      "                                         \\\n",
      "                                        46_\n",
      "                                           \\\n",
      "                                          48_\n",
      "                                             \\\n",
      "                                            50\n"
     ]
    }
   ],
   "source": [
    "# Espacio para inciso 1.2 (utilizar cuantas celdas de código sean necesarias)\n",
    "\n",
    "# Instanciar BST y agregar 25 elementos \n",
    "BST_probe = BinarySearchTree()\n",
    "for i in range(2,52,2):\n",
    "    BST_probe.insert(i)\n",
    "BST_probe.print_pretty()"
   ]
  },
  {
   "cell_type": "markdown",
   "metadata": {},
   "source": [
    " - **BST Insert()**"
   ]
  },
  {
   "cell_type": "code",
   "execution_count": 3,
   "metadata": {},
   "outputs": [
    {
     "name": "stdout",
     "output_type": "stream",
     "text": [
      "\n",
      "  2\n",
      " / \\\n",
      "-1 4\n",
      "    \\\n",
      "    6\n",
      "     \\\n",
      "     8_\n",
      "       \\\n",
      "      10___\n",
      "           \\\n",
      "          12_\n",
      "         /   \\\n",
      "        11  14_\n",
      "               \\\n",
      "              16_\n",
      "                 \\\n",
      "                18_\n",
      "                   \\\n",
      "                  20_\n",
      "                     \\\n",
      "                    22_\n",
      "                       \\\n",
      "                      24_\n",
      "                         \\\n",
      "                        26_\n",
      "                           \\\n",
      "                          28_\n",
      "                             \\\n",
      "                            30_\n",
      "                               \\\n",
      "                              32_\n",
      "                                 \\\n",
      "                                34_\n",
      "                                   \\\n",
      "                                  36_\n",
      "                                     \\\n",
      "                                    38_\n",
      "                                       \\\n",
      "                                      40_\n",
      "                                         \\\n",
      "                                        42_\n",
      "                                           \\\n",
      "                                          44_\n",
      "                                             \\\n",
      "                                            46_\n",
      "                                               \\\n",
      "                                              48_\n",
      "                                                 \\\n",
      "                                                50_\n",
      "                                                   \\\n",
      "                                                  51\n"
     ]
    }
   ],
   "source": [
    "# Casos posibles Insert()\n",
    "BST_probe.insert(-1)        # Insertar valor menor \n",
    "BST_probe.insert(11)        # Insertar valor medio\n",
    "BST_probe.insert(51)        # Insertar valor mayor O()\n",
    "BST_probe.print_pretty()"
   ]
  },
  {
   "cell_type": "markdown",
   "metadata": {},
   "source": [
    "- **BST Delete()**"
   ]
  },
  {
   "cell_type": "code",
   "execution_count": 4,
   "metadata": {},
   "outputs": [
    {
     "name": "stdout",
     "output_type": "stream",
     "text": [
      "\n",
      "2\n",
      " \\\n",
      " 4\n",
      "  \\\n",
      "  6\n",
      "   \\\n",
      "   8_\n",
      "     \\\n",
      "    10___\n",
      "         \\\n",
      "        14_\n",
      "       /   \\\n",
      "      11  16_\n",
      "             \\\n",
      "            18_\n",
      "               \\\n",
      "              20_\n",
      "                 \\\n",
      "                22_\n",
      "                   \\\n",
      "                  24_\n",
      "                     \\\n",
      "                    26_\n",
      "                       \\\n",
      "                      28_\n",
      "                         \\\n",
      "                        30_\n",
      "                           \\\n",
      "                          32_\n",
      "                             \\\n",
      "                            34_\n",
      "                               \\\n",
      "                              36_\n",
      "                                 \\\n",
      "                                38_\n",
      "                                   \\\n",
      "                                  40_\n",
      "                                     \\\n",
      "                                    42_\n",
      "                                       \\\n",
      "                                      44_\n",
      "                                         \\\n",
      "                                        46_\n",
      "                                           \\\n",
      "                                          48_\n",
      "                                             \\\n",
      "                                            51\n"
     ]
    }
   ],
   "source": [
    "# Casos posibles Delete()\n",
    "BST_probe.delete(12)        # Eliminar nodo 2 hijos\n",
    "BST_probe.delete(50)        # Eliminar nodo 1 hijo\n",
    "BST_probe.delete(-1)        # Eliminar nodo 0 hijos \n",
    "BST_probe.print_pretty()"
   ]
  },
  {
   "cell_type": "markdown",
   "metadata": {},
   "source": [
    "- **BST Search()**"
   ]
  },
  {
   "cell_type": "code",
   "execution_count": 5,
   "metadata": {},
   "outputs": [
    {
     "name": "stdout",
     "output_type": "stream",
     "text": [
      "True\n",
      "True\n",
      "True\n",
      "False\n",
      "\n",
      "2\n",
      " \\\n",
      " 4\n",
      "  \\\n",
      "  6\n",
      "   \\\n",
      "   8_\n",
      "     \\\n",
      "    10___\n",
      "         \\\n",
      "        14_\n",
      "       /   \\\n",
      "      11  16_\n",
      "             \\\n",
      "            18_\n",
      "               \\\n",
      "              20_\n",
      "                 \\\n",
      "                22_\n",
      "                   \\\n",
      "                  24_\n",
      "                     \\\n",
      "                    26_\n",
      "                       \\\n",
      "                      28_\n",
      "                         \\\n",
      "                        30_\n",
      "                           \\\n",
      "                          32_\n",
      "                             \\\n",
      "                            34_\n",
      "                               \\\n",
      "                              36_\n",
      "                                 \\\n",
      "                                38_\n",
      "                                   \\\n",
      "                                  40_\n",
      "                                     \\\n",
      "                                    42_\n",
      "                                       \\\n",
      "                                      44_\n",
      "                                         \\\n",
      "                                        46_\n",
      "                                           \\\n",
      "                                          48_\n",
      "                                             \\\n",
      "                                            51\n"
     ]
    }
   ],
   "source": [
    "# Casos posibles Search()\n",
    "print(BST_probe.search(2))      # Busqueda valor menor\n",
    "print(BST_probe.search(20))     # Busqueda valor central\n",
    "print(BST_probe.search(51))     # Busqueda valor mayor\n",
    "print(BST_probe.search(100))    # Busqueda valor inexistente\n",
    "BST_probe.print_pretty()"
   ]
  },
  {
   "cell_type": "markdown",
   "metadata": {},
   "source": [
    "#### **2 - AVL Tree**\n",
    "---\n",
    "\n",
    "2.1 - En el archivo `avl.py`, crear una clase que implemente un árbol AVL. Esta clase puede ser implementada desde cero o generada con AI. Considerar que:\n",
    "- La clase debe estar explícitamente declarada en el `avl.py`, ya que debe incluir el método de *pretty_print()*. Esto imposibilita el uso de alguna librería de python que contenga una implementación de AVL.\n",
    "- Si utiliza AI para generar la clase, debe documentar en este notebook el prompt utilizado, ya sea en las celdas correspondientes al inciso o en un apartado de Anexos.\n",
    "\n",
    "2.2 - Instanciar un AVL y agregar 25 elementos cualesquiera. Luego, demostrar que las operaciones de *insert()*, *delete()* y *search()* funcionan como esperado en un árbol AVL. Dejar constancia de cada una de estas operaciones con el método *pretty_print()*."
   ]
  },
  {
   "cell_type": "markdown",
   "metadata": {},
   "source": [
    "#### **2.2 - AVL Tree**\n"
   ]
  },
  {
   "cell_type": "code",
   "execution_count": 6,
   "metadata": {},
   "outputs": [
    {
     "name": "stdout",
     "output_type": "stream",
     "text": [
      "\n",
      "            ______________32_______\n",
      "           /                       \\\n",
      "    ______16_______             __40___\n",
      "   /               \\           /       \\\n",
      "  _8___         __24___       36_     44___\n",
      " /     \\       /       \\     /   \\   /     \\\n",
      " 4    12_     20_     28_   34  38  42    48_\n",
      "/ \\  /   \\   /   \\   /   \\               /   \\\n",
      "2 6 10  14  18  22  26  30              46  50\n"
     ]
    }
   ],
   "source": [
    "# Espacio para inciso 2.2 (utilizar cuantas celdas de código sean necesarias)\n",
    "\n",
    "# Instanciar AVL y agregar 25 elementos \n",
    "AVL_probe = AVLTree()\n",
    "for i in range(2,52,2):\n",
    "    AVL_probe.insert(i)\n",
    "AVL_probe.print_pretty()"
   ]
  },
  {
   "cell_type": "markdown",
   "metadata": {},
   "source": [
    "-  **AVL Insert()**"
   ]
  },
  {
   "cell_type": "code",
   "execution_count": 7,
   "metadata": {},
   "outputs": [
    {
     "name": "stdout",
     "output_type": "stream",
     "text": [
      "\n",
      "                ______________32_______\n",
      "               /                       \\\n",
      "      ________16_______             __40_______\n",
      "     /                 \\           /           \\\n",
      "    _8_____         __24___       36_       __48_\n",
      "   /       \\       /       \\     /   \\     /     \\\n",
      "   4    __12_     20_     28_   34  38    44_   50_\n",
      "  / \\  /     \\   /   \\   /   \\           /   \\     \\\n",
      "  2 6 10_   14  18  22  26  30          42  46    51\n",
      " /       \\\n",
      "-1      11\n"
     ]
    }
   ],
   "source": [
    "# Casos posibles de Insert()\n",
    "AVL_probe.insert(-1)        # Insertar valor menor \n",
    "AVL_probe.insert(11)        # Insertar valor medio \n",
    "AVL_probe.insert(51)        # Insertar valor mayor \n",
    "AVL_probe.print_pretty()"
   ]
  },
  {
   "cell_type": "markdown",
   "metadata": {},
   "source": [
    "- **AVL Delete()**"
   ]
  },
  {
   "cell_type": "code",
   "execution_count": 8,
   "metadata": {},
   "outputs": [
    {
     "name": "stdout",
     "output_type": "stream",
     "text": [
      "\n",
      "            ______________32_______\n",
      "           /                       \\\n",
      "    ______16_______             __40_______\n",
      "   /               \\           /           \\\n",
      "  _8___         __24___       36_       __48_\n",
      " /     \\       /       \\     /   \\     /     \\\n",
      " 4    11_     20_     28_   34  38    44_   51\n",
      "/ \\  /   \\   /   \\   /   \\           /   \\\n",
      "2 6 10  14  18  22  26  30          42  46\n"
     ]
    }
   ],
   "source": [
    "# Casos posibles Delete()\n",
    "AVL_probe.delete(12)        # Eliminar nodo 2 hijos\n",
    "AVL_probe.delete(50)        # Eliminar nodo 1 hijo\n",
    "AVL_probe.delete(-1)        # Eliminar nodo 0 hijos \n",
    "AVL_probe.print_pretty()"
   ]
  },
  {
   "cell_type": "markdown",
   "metadata": {},
   "source": [
    "- **AVL Search()**\n"
   ]
  },
  {
   "cell_type": "code",
   "execution_count": 9,
   "metadata": {},
   "outputs": [
    {
     "name": "stdout",
     "output_type": "stream",
     "text": [
      "True\n",
      "True\n",
      "True\n",
      "False\n",
      "\n",
      "            ______________32_______\n",
      "           /                       \\\n",
      "    ______16_______             __40_______\n",
      "   /               \\           /           \\\n",
      "  _8___         __24___       36_       __48_\n",
      " /     \\       /       \\     /   \\     /     \\\n",
      " 4    11_     20_     28_   34  38    44_   51\n",
      "/ \\  /   \\   /   \\   /   \\           /   \\\n",
      "2 6 10  14  18  22  26  30          42  46\n"
     ]
    }
   ],
   "source": [
    "# Casos posibles Search()\n",
    "print(AVL_probe.search(2))      # Busqueda valor menor\n",
    "print(AVL_probe.search(20))     # Busqueda valor central\n",
    "print(AVL_probe.search(51))     # Busqueda valor mayor\n",
    "print(AVL_probe.search(100))    # Busqueda valor inexistente\n",
    "AVL_probe.print_pretty()"
   ]
  },
  {
   "cell_type": "markdown",
   "metadata": {},
   "source": [
    "#### **3 - Evaluación de Complejidad**\n",
    "---"
   ]
  },
  {
   "cell_type": "code",
   "execution_count": 10,
   "metadata": {},
   "outputs": [
    {
     "name": "stdout",
     "output_type": "stream",
     "text": [
      "Execution time: 0.0073193000 secs\n"
     ]
    }
   ],
   "source": [
    "import time\n",
    "\n",
    "def time_function(func, *args, **kwargs):\n",
    "    start_time = time.perf_counter()\n",
    "    result = func(*args, **kwargs)\n",
    "    end_time = time.perf_counter()\n",
    "    duration = end_time - start_time\n",
    "    print(f'Execution time: {duration:.10f} secs')\n",
    "    return duration\n",
    "\n",
    "# Example usage:\n",
    "def sample_function(n):\n",
    "    # Sample function that calculates the sum of numbers from 0 to n-1\n",
    "    return sum(range(n))\n",
    "\n",
    "# Time the sample_function execution with argument 1000000\n",
    "result = time_function(sample_function, 1000000)\n",
    "\n",
    "# Ejemplo con clase de BST:\n",
    "# insert_time = time_function(tree.insert, 42)"
   ]
  },
  {
   "cell_type": "markdown",
   "metadata": {},
   "source": [
    "#### **5K Nodos**"
   ]
  },
  {
   "cell_type": "markdown",
   "metadata": {},
   "source": [
    "3.1.a - Instanciar un nuevo objeto **BST** e insertar **5K nodos**. Los valores de dichos nodos deben diseñarse con el objetivo de generar un árbol con la peor topología posible (desde la perspectiva de complejidad temporal).\n",
    "\n",
    "3.1.b - Instanciar un nuevo objeto **AVL** e insertar **5K nodos**. Agregar exactamente los valores utilizados en el inciso anterior."
   ]
  },
  {
   "cell_type": "markdown",
   "metadata": {},
   "source": [
    "- *3.1.A \tBST 5k nodos O()*"
   ]
  },
  {
   "cell_type": "code",
   "execution_count": 11,
   "metadata": {},
   "outputs": [],
   "source": [
    "# Espacio para inciso 3.1.a\n",
    "\n",
    "BST_5K_worse = BinarySearchTree()\n",
    "for i in range(5000):\n",
    "    BST_5K_worse.insert(i)\n",
    "#BST_5K_worse.print_pretty()\n"
   ]
  },
  {
   "cell_type": "markdown",
   "metadata": {},
   "source": [
    "- *3.1.B \tAVL 5k nodos O()*"
   ]
  },
  {
   "cell_type": "code",
   "execution_count": 12,
   "metadata": {},
   "outputs": [],
   "source": [
    "# Espacio para inciso 3.1.b \n",
    "\n",
    "AVL_5K_worse = AVLTree()\n",
    "for i in range(5000):\n",
    "    AVL_5K_worse.insert(i)\n",
    "#AVL_5K_worse.print_pretty()"
   ]
  },
  {
   "cell_type": "markdown",
   "metadata": {},
   "source": [
    "##### **Insert()**\n",
    "\n",
    "Al inicio del inciso *3* se encuentra la función `time_function` junto a un ejemplo de su uso. Esta función permite perfilar el **tiempo** en segundos que toma ejecutar una función y devuelve el resultado con una precisión de diez decimales. Utilice esta función para perfilar el tiempo en los siguientes incisos que lo requieran.\n",
    "\n",
    "3.2 - Diseñe una serie de 25 valores que al ser insertados en la estructura (BST o AVL) demanden el peor de los escenarios.\n",
    "\n",
    "3.3.a - Programáticamente, realice las 25 operaciones de insert en el BST creado en el inciso *3.1.a*, midiendo el tiempo de ejecución con la función proporcionada. Guarde los resultados en una lista. \n",
    "\n",
    "3.3.b - Programáticamente, realice las mismas 25 operaciones de insert en el AVL creado en el inciso *3.1.b*, midiendo el tiempo de ejecución con la función proporcionada. Guarde los resultados en una lista. \n",
    "\n",
    "3.4 - Utilizando los 25 tiempos registrados para el BST y AVL, calcule el promedio de *insert()* para cada tipo de árbol. Almacene estos dos valores ya que serán utilizados luego."
   ]
  },
  {
   "cell_type": "code",
   "execution_count": 13,
   "metadata": {},
   "outputs": [],
   "source": [
    "# Espacio para incisos 3.2 - 3.4 (utilizar cuantas celdas de código sean necesarias)\n",
    "\n",
    "# 3.2 - BIG O() Para 5K 10K 25K\n",
    "Insert_BIG_O_Values = [50000, 50001, 50002, 50003, 50004, \n",
    "                       50005, 50006, 50007, 50008, 50009,\n",
    "                       50010, 50011, 50012, 50013, 50014, \n",
    "                       50015, 50016, 50017, 50018, 50019,\n",
    "                       50020, 50021, 50022, 50023, 50024]\n",
    "\n",
    "# Inserta los valores BIG O() en la estructura BST o AVL\n",
    "def insert_BIG_O(Structure, values):\n",
    "    for value in values:\n",
    "        Structure.insert(value)\n",
    "\n",
    "# 3.7 Listas de primedio de tiempo insert()\n",
    "BST_insert_times = [\"0\"]\n",
    "AVL_insert_times = [\"0\"]\n",
    "\n"
   ]
  },
  {
   "cell_type": "markdown",
   "metadata": {},
   "source": [
    "- *3.3.A \tBST Insert() O()*"
   ]
  },
  {
   "cell_type": "code",
   "execution_count": 14,
   "metadata": {},
   "outputs": [
    {
     "name": "stdout",
     "output_type": "stream",
     "text": [
      "Execution time: 0.0123545000 secs\n",
      "['0', '0.0004941800']\n"
     ]
    }
   ],
   "source": [
    "# 5K\n",
    "BST_Insert_Time_05K = time_function(insert_BIG_O, BST_5K_worse, Insert_BIG_O_Values)/25\n",
    "BST_insert_times.append(f'{BST_Insert_Time_05K:.10f}')      # 3.4 - Tiempo promedio 25 nodos O()\n",
    "#BST_5K_worse.print_pretty()\n",
    "print(BST_insert_times)"
   ]
  },
  {
   "cell_type": "markdown",
   "metadata": {},
   "source": [
    "- *3.3.B \tAVL Inserr() O()*"
   ]
  },
  {
   "cell_type": "code",
   "execution_count": 15,
   "metadata": {},
   "outputs": [
    {
     "name": "stdout",
     "output_type": "stream",
     "text": [
      "Execution time: 0.0000793000 secs\n",
      "['0', '0.0000031720']\n"
     ]
    }
   ],
   "source": [
    "# 5K\n",
    "AVL_Insert_Time_05K = time_function(insert_BIG_O, AVL_5K_worse, Insert_BIG_O_Values)/25\n",
    "AVL_insert_times.append(f'{AVL_Insert_Time_05K:.10f}')      # 3.4 - Tiempo promedio 25 nodos O()\n",
    "#AVL_5K_worse.print_pretty()\n",
    "print(AVL_insert_times)"
   ]
  },
  {
   "cell_type": "markdown",
   "metadata": {},
   "source": [
    "##### **Search()**\n",
    "\n",
    "3.5 - Diseñe una serie de 25 valores que al ser buscados en la estructura (BST o AVL) demanden el peor de los escenarios (no exista).\n",
    "\n",
    "3.6.a - Programáticamente, realice las 25 operaciones de search en el BST creado en el inciso 3.1.a, midiendo el tiempo de ejecución con la función proporcionada. Guarde los resultados en una lista. \n",
    "\n",
    "3.6.b - Programáticamente, realice las mismas 25 operaciones de search en el AVL creado en el inciso 3.1.b, midiendo el tiempo de ejecución con la función proporcionada. Guarde los resultados en una lista. \n",
    "\n",
    "3.7 - Utilizando los 25 tiempos registrados para el BST y AVL, calcule el promedio de *search()* para cada tipo de árbol. Almacene estos dos valores ya que serán utilizados luego."
   ]
  },
  {
   "cell_type": "code",
   "execution_count": 16,
   "metadata": {},
   "outputs": [],
   "source": [
    "# Espacio para incisos 3.5 - 3.7\n",
    "\n",
    "# BIG O() Para 5K 10K 25K\n",
    "Search_BIG_O_Values = [100000, 100001, 100002, 100003, 100004,\n",
    "                       100005, 100006, 100007, 100008, 100009, \n",
    "                       100010, 100011, 100012, 100013, 100014,\n",
    "                       100015, 100016, 100017, 100018, 100019, \n",
    "                       100020, 100021, 100022, 100023, 100024]\n",
    "\n",
    "# Busca los valores BIG O() en la estructura BST o AVL\n",
    "def search_BIG_O(Structure, values):\n",
    "    for value in values:\n",
    "        Structure.search(value)\n",
    "\n",
    "# 3.7 Listas de primedio de tiempo search()\n",
    "BST_search_times = [\"0\"]\n",
    "AVL_search_times = [\"0\"]"
   ]
  },
  {
   "cell_type": "markdown",
   "metadata": {},
   "source": [
    "- *3.6.A\tBST Search()*"
   ]
  },
  {
   "cell_type": "code",
   "execution_count": 17,
   "metadata": {},
   "outputs": [
    {
     "name": "stdout",
     "output_type": "stream",
     "text": [
      "Execution time: 0.0128047000 secs\n",
      "['0', '0.0005121880']\n"
     ]
    }
   ],
   "source": [
    "# 5K\n",
    "BST_Search_Time_05K = time_function(search_BIG_O, BST_5K_worse, Search_BIG_O_Values)/25\n",
    "BST_search_times.append(f'{BST_Search_Time_05K:.10f}')      # 3.7 - Tiempo promedio 25 nodos O()\n",
    "#BST_5K_worse.print_pretty()\n",
    "print(BST_search_times)"
   ]
  },
  {
   "cell_type": "markdown",
   "metadata": {},
   "source": [
    "- *3.6.B\tAVL Search()*"
   ]
  },
  {
   "cell_type": "code",
   "execution_count": 18,
   "metadata": {},
   "outputs": [
    {
     "name": "stdout",
     "output_type": "stream",
     "text": [
      "Execution time: 0.0000157000 secs\n",
      "['0', '0.0000006280']\n"
     ]
    }
   ],
   "source": [
    "# 5K\n",
    "AVL_Time_05K = time_function(search_BIG_O, AVL_5K_worse, Search_BIG_O_Values)/25\n",
    "AVL_search_times.append(f'{AVL_Time_05K:.10f}')         # 3.7 -  Tiempo promedio 25 nodos O()\n",
    "#AVL_5K_worse.print_pretty()\n",
    "print(AVL_search_times)"
   ]
  },
  {
   "cell_type": "markdown",
   "metadata": {},
   "source": [
    "##### **Otros valores de *N***\n",
    "\n",
    "3.8 - Repita los incisos del *3.1* al *3.7* con las siguientes cantidades de *n*:\n",
    "* 10K nodos\n",
    "* 25k nodos\n"
   ]
  },
  {
   "cell_type": "markdown",
   "metadata": {},
   "source": [
    "- *Nodos*"
   ]
  },
  {
   "cell_type": "code",
   "execution_count": 19,
   "metadata": {},
   "outputs": [],
   "source": [
    "'''10K Nodos'''\n",
    "\n",
    "BST_10K_worse = BinarySearchTree()\n",
    "for i in range(10000):\n",
    "    BST_10K_worse.insert(i)\n",
    "#BST_5K_worse.print_pretty()\n",
    "\n",
    "AVL_10K_worse = AVLTree()\n",
    "for i in range(10000):\n",
    "    AVL_10K_worse.insert(i)\n",
    "#AVL_5K_worse.print_pretty()\n",
    "\n",
    "'''25K Nodos'''\n",
    "\n",
    "BST_25K_worse = BinarySearchTree()\n",
    "for i in range(25000):\n",
    "    BST_25K_worse.insert(i)\n",
    "#BST_5K_worse.print_pretty()\n",
    "\n",
    "AVL_25K_worse = AVLTree()\n",
    "for i in range(25000):\n",
    "    AVL_25K_worse.insert(i)\n",
    "#AVL_5K_worse.print_pretty()"
   ]
  },
  {
   "cell_type": "markdown",
   "metadata": {},
   "source": [
    "- *Insert() O()*"
   ]
  },
  {
   "cell_type": "code",
   "execution_count": 20,
   "metadata": {},
   "outputs": [
    {
     "name": "stdout",
     "output_type": "stream",
     "text": [
      "Execution time: 0.0255903000 secs\n",
      "['0', '0.0004941800', '0.0010236120']\n",
      "Execution time: 0.0624270000 secs\n",
      "['0', '0.0004941800', '0.0010236120', '0.0024970800']\n",
      "Execution time: 0.0000844000 secs\n",
      "['0', '0.0000031720', '0.0000033760']\n",
      "Execution time: 0.0001781000 secs\n",
      "['0', '0.0000031720', '0.0000033760', '0.0000071240']\n"
     ]
    }
   ],
   "source": [
    "'''BST Tree'''\n",
    "\n",
    "# 10K\n",
    "BST_Insert_Time_10K = time_function(insert_BIG_O, BST_10K_worse, Insert_BIG_O_Values)/25\n",
    "BST_insert_times.append(f'{BST_Insert_Time_10K:.10f}') # Tiempo promedio 25 nodos O()\n",
    "#BST_10K_worse.print_pretty()\n",
    "print(BST_insert_times)\n",
    "\n",
    "# 25K\n",
    "BST_Insert_Time_25K = time_function(insert_BIG_O, BST_25K_worse, Insert_BIG_O_Values)/25\n",
    "BST_insert_times.append(f'{BST_Insert_Time_25K:.10f}') # Tiempo promedio 25 nodos O()\n",
    "#BST_25K_worse.print_pretty()\n",
    "print(BST_insert_times)\n",
    "\n",
    "'''AVL Tree'''\n",
    "\n",
    "# 10K\n",
    "AVL_Insert_Time_10K = time_function(insert_BIG_O, AVL_10K_worse, Insert_BIG_O_Values)/25\n",
    "AVL_insert_times.append(f'{AVL_Insert_Time_10K:.10f}') # Tiempo promedio 25 nodos O()\n",
    "#AVL_10K_worse.print_pretty()\n",
    "print(AVL_insert_times)\n",
    "\n",
    "# 25K\n",
    "AVL_Insert_Time_25K = time_function(insert_BIG_O, AVL_25K_worse, Insert_BIG_O_Values)/25\n",
    "AVL_insert_times.append(f'{AVL_Insert_Time_25K:.10f}') # Tiempo promedio 25 nodos O()\n",
    "#AVL_25K_worse.print_pretty()\n",
    "print(AVL_insert_times)"
   ]
  },
  {
   "cell_type": "markdown",
   "metadata": {},
   "source": [
    "- *Search()*"
   ]
  },
  {
   "cell_type": "code",
   "execution_count": 21,
   "metadata": {},
   "outputs": [
    {
     "name": "stdout",
     "output_type": "stream",
     "text": [
      "Execution time: 0.0280287000 secs\n",
      "['0', '0.0005121880', '0.0011211480']\n",
      "Execution time: 0.0672464000 secs\n",
      "['0', '0.0005121880', '0.0011211480', '0.0026898560']\n",
      "Execution time: 0.0000174000 secs\n",
      "['0', '0.0000006280', '0.0000006960']\n",
      "Execution time: 0.0000178000 secs\n",
      "['0', '0.0000006280', '0.0000006960', '0.0000007120']\n"
     ]
    }
   ],
   "source": [
    "\n",
    "'''BST Tree'''\n",
    "\n",
    "# 10K\n",
    "BST_Search_Time_10K = time_function(search_BIG_O, BST_10K_worse, Search_BIG_O_Values)/25\n",
    "BST_search_times.append(f'{BST_Search_Time_10K:.10f}') # Tiempo promedio 25 nodos O()\n",
    "#BST_10K_worse.print_pretty()\n",
    "print(BST_search_times)\n",
    "\n",
    "# 25K\n",
    "BST_Search_Time_25K = time_function(search_BIG_O, BST_25K_worse, Search_BIG_O_Values)/25\n",
    "BST_search_times.append(f'{BST_Search_Time_25K:.10f}') # Tiempo promedio 25 nodos O()\n",
    "#BST_25K_worse.print_pretty()\n",
    "print(BST_search_times)\n",
    "\n",
    "'''AVL Tree'''\n",
    "\n",
    "# 10K\n",
    "AVL_Time_10K = time_function(search_BIG_O, AVL_10K_worse, Search_BIG_O_Values)/25\n",
    "AVL_search_times.append(f'{AVL_Time_10K:.10f}')   # Tiempo promedio 25 nodos O()\n",
    "#AVL_10K_worse.print_pretty()\n",
    "print(AVL_search_times)\n",
    "\n",
    "# 25K\n",
    "AVL_Time_25K = time_function(search_BIG_O, AVL_25K_worse, Search_BIG_O_Values)/25\n",
    "AVL_search_times.append(f'{AVL_Time_25K:.10f}') # Tiempo promedio 25 nodos O()\n",
    "#AVL_25K_worse.print_pretty()\n",
    "print(AVL_search_times)"
   ]
  },
  {
   "cell_type": "markdown",
   "metadata": {},
   "source": [
    "#### **4 - Gráfica**\n",
    "---\n",
    "\n",
    "Una vez realizados todos los puntos del inciso *3* correctamente, debería tener la siguiente información basada en tiempos promedio tanto para el **BST** como para el **AVL**:\n",
    "\n",
    "|Operación | N = 5K   | N = 10K  | N = 25K  |\n",
    "|----------|----------|----------|----------|\n",
    "| Insert() | x secs   | x secs   | x secs   |\n",
    "| Search() | x secs   | x secs   | x secs   |\n",
    "\n",
    "Importante: recuerde mantener la precisión de diez decimales en los registros de tiempo.\n",
    "\n",
    "4.1 - Programáticamente unificar los resultados en el formato que necesite para una ejecución automática de los incisos siguientes.\n",
    "\n",
    "4.2 - Crear una gráfica que ilustre la complejidad de la operación de *Insert()* tanto para BST como para AVL. Considerar que:\n",
    "* Debe ser una única gráfica que superponga los resultados del BST y el AVL\n",
    "* Las funciones de complejidad resultantes deben identificar correctamente el tipo de árbol al que pertenece \n",
    "* Debe graficar las funciones de complejidad con un color distinto\n",
    "\n",
    "4.3 - Crear una gráfica que ilustre la complejidad de la operación de *Search()* tanto para BST como para AVL. Tener presente las mismas consideraciones que en el inciso *4.2*. \n",
    "\n",
    "Recuerde que el objetivo es evidenciar claramente que la complejidad de las estructuras corresponden a la teoría, o sea:\n",
    "* Binary Search Tree - $O(n)$\n",
    "* AVL Tree - $O(log_{2}n)$\n"
   ]
  },
  {
   "cell_type": "markdown",
   "metadata": {},
   "source": [
    "- **Grafica Basica Insert()** "
   ]
  },
  {
   "cell_type": "code",
   "execution_count": 22,
   "metadata": {},
   "outputs": [
    {
     "name": "stdout",
     "output_type": "stream",
     "text": [
      "['0', '0.0004941800', '0.0010236120', '0.0024970800']\n",
      "['0', '0.0000031720', '0.0000033760', '0.0000071240']\n"
     ]
    },
    {
     "data": {
      "image/png": "[encoded data removed]",
      "text/plain": [
       "<Figure size 800x500 with 1 Axes>"
      ]
     },
     "metadata": {},
     "output_type": "display_data"
    }
   ],
   "source": [
    "BST_insert_times_float =  [float(item) for item in BST_insert_times]\n",
    "AVL_insert_times_float =  [float(item) for item in AVL_insert_times]\n",
    "\n",
    "print(f\"{BST_insert_times}\")\n",
    "print(f\"{AVL_insert_times}\")\n",
    "\n",
    "x = [\"0\",\"5K\", \"10K\", \"25K\"]\n",
    "\n",
    "plt.figure(figsize=(8, 5))\n",
    "plt.plot(x, BST_insert_times_float, marker='o', color='blue', label='BST')\n",
    "plt.plot(x, AVL_insert_times_float, marker='o', color='red', label='AVL')\n",
    "plt.title('Tiempos de inserción: BST vs AVL')\n",
    "plt.xlabel('Cantidad de nodos')\n",
    "plt.ylabel('Tiempo (segundos)')\n",
    "plt.legend()\n",
    "plt.grid(True)\n",
    "plt.show()\n"
   ]
  },
  {
   "cell_type": "markdown",
   "metadata": {},
   "source": [
    "- **Tiempos Insert() de AVL vs. BST (Doble Eje Y)**"
   ]
  },
  {
   "cell_type": "code",
   "execution_count": 23,
   "metadata": {},
   "outputs": [
    {
     "data": {
      "image/png": "[encoded data removed]",
      "text/plain": [
       "<Figure size 640x480 with 2 Axes>"
      ]
     },
     "metadata": {},
     "output_type": "display_data"
    }
   ],
   "source": [
    "# Crear figura y ejes\n",
    "fig, ax1 = plt.subplots()\n",
    "\n",
    "# Curva BST\n",
    "color1 = 'blue'\n",
    "ax1.set_xlabel('Cantidad de nodos')\n",
    "ax1.set_ylabel('Tiempo (segundos)')\n",
    "line1, = ax1.plot(x, BST_insert_times_float, color=color1, marker='o', label='BST')\n",
    "ax1.tick_params(axis='y', labelcolor=color1)\n",
    "\n",
    "# Curva AVL con eje derecho\n",
    "ax2 = ax1.twinx()\n",
    "color2 = 'red'\n",
    "line2, = ax2.plot(x, AVL_insert_times_float, color=color2, marker='o', label='AVL')\n",
    "ax2.set_ylim(0, max(BST_insert_times_float) * 0.01)\n",
    "ax2.tick_params(axis='y', labelcolor=color2)\n",
    "\n",
    "plt.title('Tiempos de inserción: BST vs AVL')\n",
    "lines = [line1, line2]\n",
    "labels = [line.get_label() for line in lines]\n",
    "ax1.legend(lines, labels, loc='upper left')\n",
    "\n",
    "fig.tight_layout()\n",
    "plt.show()\n"
   ]
  },
  {
   "cell_type": "markdown",
   "metadata": {},
   "source": [
    "- **Grafica Basica Search()** "
   ]
  },
  {
   "cell_type": "code",
   "execution_count": 24,
   "metadata": {},
   "outputs": [
    {
     "name": "stdout",
     "output_type": "stream",
     "text": [
      "[0.0, 0.000512188, 0.001121148, 0.002689856]\n",
      "[0.0, 6.28e-07, 6.96e-07, 7.12e-07]\n"
     ]
    },
    {
     "data": {
      "image/png": "[encoded data removed]",
      "text/plain": [
       "<Figure size 800x500 with 1 Axes>"
      ]
     },
     "metadata": {},
     "output_type": "display_data"
    }
   ],
   "source": [
    "BST_search_times_float =  [float(item) for item in BST_search_times]\n",
    "AVL_search_times_float =  [float(item) for item in AVL_search_times]\n",
    "\n",
    "print(BST_search_times_float)\n",
    "print(AVL_search_times_float)\n",
    "\n",
    "x = [\"0\",\"5K\", \"10K\", \"25K\"]\n",
    "\n",
    "plt.figure(figsize=(8, 5))\n",
    "plt.plot(x, BST_search_times_float, marker='o', color='blue', label='BST')\n",
    "plt.plot(x, AVL_search_times_float, marker='o', color='red', label='AVL')\n",
    "plt.title('Tiempos de busqueda: BST vs AVL')\n",
    "plt.xlabel('Cantidad de nodos')\n",
    "plt.ylabel('Tiempo (segundos)')\n",
    "plt.legend()\n",
    "plt.grid(True)\n",
    "plt.show()"
   ]
  },
  {
   "cell_type": "markdown",
   "metadata": {},
   "source": [
    "- **Tiempos Search() de AVL vs. BST (Doble Eje Y)**"
   ]
  },
  {
   "cell_type": "code",
   "execution_count": 27,
   "metadata": {},
   "outputs": [
    {
     "data": {
      "image/png": "[encoded data removed]",
      "text/plain": [
       "<Figure size 640x480 with 2 Axes>"
      ]
     },
     "metadata": {},
     "output_type": "display_data"
    }
   ],
   "source": [
    "# Crear figura y ejes\n",
    "fig, ax1 = plt.subplots()\n",
    "\n",
    "# Curva BST\n",
    "color1 = 'blue'\n",
    "ax1.set_xlabel('Cantidad de nodos')\n",
    "ax1.set_ylabel('Tiempo (segundos)')\n",
    "line1, = ax1.plot(x, BST_search_times_float, color=color1, marker='o', label='BST')\n",
    "ax1.tick_params(axis='y', labelcolor=color1)\n",
    "\n",
    "# Curva AVL con eje derecho\n",
    "ax2 = ax1.twinx()\n",
    "color2 = 'red'\n",
    "line2, = ax2.plot(x, AVL_search_times_float, color=color2, marker='o', label='AVL')\n",
    "ax2.set_ylim(0, max(BST_search_times_float) * 0.002)\n",
    "ax2.tick_params(axis='y', labelcolor=color2)\n",
    "\n",
    "plt.title('Tiempos de busqueda: BST vs AVL')\n",
    "lines = [line1, line2]\n",
    "labels = [line.get_label() for line in lines]\n",
    "ax1.legend(lines, labels, loc='upper left')\n",
    "\n",
    "fig.tight_layout()\n",
    "plt.show()\n"
   ]
  },
  {
   "cell_type": "markdown",
   "metadata": {},
   "source": [
    "---"
   ]
  }
 ],
 "metadata": {
  "kernelspec": {
   "display_name": "Python 3",
   "language": "python",
   "name": "python3"
  },
  "language_info": {
   "codemirror_mode": {
    "name": "ipython",
    "version": 3
   },
   "file_extension": ".py",
   "mimetype": "text/x-python",
   "name": "python",
   "nbconvert_exporter": "python",
   "pygments_lexer": "ipython3",
   "version": "3.13.3"
  }
 },
 "nbformat": 4,
 "nbformat_minor": 2
}
