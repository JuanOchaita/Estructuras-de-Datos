{
 "cells": [
  {
   "cell_type": "markdown",
   "id": "614049b0",
   "metadata": {},
   "source": [
    "\n",
    " ## Parcial II - Estructuras de Datos\n",
    "---\n",
    "\n",
    "-Juan Andres Ochaita Marroquin-  \n",
    "-20240563-"
   ]
  },
  {
   "cell_type": "code",
   "execution_count": 1,
   "id": "64ea42d7",
   "metadata": {},
   "outputs": [],
   "source": [
    "from avl import AVLTree\n",
    "from bst import BinarySearchTree\n",
    "\n",
    "import sys\n",
    "sys.setrecursionlimit(100000) \n",
    "\n",
    "import matplotlib.pyplot as plt"
   ]
  },
  {
   "cell_type": "markdown",
   "id": "766acb94",
   "metadata": {},
   "source": [
    "\n",
    "#### **1 - Binary Search Tree**\n",
    "---"
   ]
  },
  {
   "cell_type": "markdown",
   "id": "80416055",
   "metadata": {},
   "source": [
    "1.1 Estructura BST\n",
    "\n",
    "1.2 Instanciar y probar clase BST\n",
    "- Insert()\n",
    "- Delete()\n",
    "- Search()"
   ]
  },
  {
   "cell_type": "code",
   "execution_count": 2,
   "id": "26e0ec19",
   "metadata": {},
   "outputs": [
    {
     "name": "stdout",
     "output_type": "stream",
     "text": [
      "\n",
      "2\n",
      " \\\n",
      " 4\n",
      "  \\\n",
      "  6\n",
      "   \\\n",
      "   8_\n",
      "     \\\n",
      "    10_\n",
      "       \\\n",
      "      12_\n",
      "         \\\n",
      "        14_\n",
      "           \\\n",
      "          16_\n",
      "             \\\n",
      "            18_\n",
      "               \\\n",
      "              20_\n",
      "                 \\\n",
      "                22_\n",
      "                   \\\n",
      "                  24_\n",
      "                     \\\n",
      "                    26_\n",
      "                       \\\n",
      "                      28_\n",
      "                         \\\n",
      "                        30_\n",
      "                           \\\n",
      "                          32_\n",
      "                             \\\n",
      "                            34_\n",
      "                               \\\n",
      "                              36_\n",
      "                                 \\\n",
      "                                38_\n",
      "                                   \\\n",
      "                                  40_\n",
      "                                     \\\n",
      "                                    42_\n",
      "                                       \\\n",
      "                                      44_\n",
      "                                         \\\n",
      "                                        46_\n",
      "                                           \\\n",
      "                                          48_\n",
      "                                             \\\n",
      "                                            50\n"
     ]
    }
   ],
   "source": [
    "# Instanciar BST y agregar 25 elementos \n",
    "BST_probe = BinarySearchTree()\n",
    "for i in range(2,52,2):\n",
    "    BST_probe.insert(i)\n",
    "BST_probe.print_pretty()"
   ]
  },
  {
   "cell_type": "markdown",
   "id": "46ce5c5b",
   "metadata": {},
   "source": [
    " - **BST Insert()**"
   ]
  },
  {
   "cell_type": "code",
   "execution_count": 3,
   "id": "a80903ce",
   "metadata": {},
   "outputs": [
    {
     "name": "stdout",
     "output_type": "stream",
     "text": [
      "\n",
      "  2\n",
      " / \\\n",
      "-1 4\n",
      "    \\\n",
      "    6\n",
      "     \\\n",
      "     8_\n",
      "       \\\n",
      "      10___\n",
      "           \\\n",
      "          12_\n",
      "         /   \\\n",
      "        11  14_\n",
      "               \\\n",
      "              16_\n",
      "                 \\\n",
      "                18_\n",
      "                   \\\n",
      "                  20_\n",
      "                     \\\n",
      "                    22_\n",
      "                       \\\n",
      "                      24_\n",
      "                         \\\n",
      "                        26_\n",
      "                           \\\n",
      "                          28_\n",
      "                             \\\n",
      "                            30_\n",
      "                               \\\n",
      "                              32_\n",
      "                                 \\\n",
      "                                34_\n",
      "                                   \\\n",
      "                                  36_\n",
      "                                     \\\n",
      "                                    38_\n",
      "                                       \\\n",
      "                                      40_\n",
      "                                         \\\n",
      "                                        42_\n",
      "                                           \\\n",
      "                                          44_\n",
      "                                             \\\n",
      "                                            46_\n",
      "                                               \\\n",
      "                                              48_\n",
      "                                                 \\\n",
      "                                                50_\n",
      "                                                   \\\n",
      "                                                  51\n"
     ]
    }
   ],
   "source": [
    "# Casos posibles Insert()\n",
    "BST_probe.insert(-1)        # Insertar valor menor \n",
    "BST_probe.insert(11)        # Insertar valor medio\n",
    "BST_probe.insert(51)        # Insertar valor mayor O()\n",
    "BST_probe.print_pretty()"
   ]
  },
  {
   "cell_type": "markdown",
   "id": "f7a5f363",
   "metadata": {},
   "source": [
    "- **BST Delete()**"
   ]
  },
  {
   "cell_type": "code",
   "execution_count": 4,
   "id": "bad195b1",
   "metadata": {},
   "outputs": [
    {
     "name": "stdout",
     "output_type": "stream",
     "text": [
      "\n",
      "2\n",
      " \\\n",
      " 4\n",
      "  \\\n",
      "  6\n",
      "   \\\n",
      "   8_\n",
      "     \\\n",
      "    10___\n",
      "         \\\n",
      "        14_\n",
      "       /   \\\n",
      "      11  16_\n",
      "             \\\n",
      "            18_\n",
      "               \\\n",
      "              20_\n",
      "                 \\\n",
      "                22_\n",
      "                   \\\n",
      "                  24_\n",
      "                     \\\n",
      "                    26_\n",
      "                       \\\n",
      "                      28_\n",
      "                         \\\n",
      "                        30_\n",
      "                           \\\n",
      "                          32_\n",
      "                             \\\n",
      "                            34_\n",
      "                               \\\n",
      "                              36_\n",
      "                                 \\\n",
      "                                38_\n",
      "                                   \\\n",
      "                                  40_\n",
      "                                     \\\n",
      "                                    42_\n",
      "                                       \\\n",
      "                                      44_\n",
      "                                         \\\n",
      "                                        46_\n",
      "                                           \\\n",
      "                                          48_\n",
      "                                             \\\n",
      "                                            51\n"
     ]
    }
   ],
   "source": [
    "# Casos posibles Delete()\n",
    "BST_probe.delete(12)        # Eliminar nodo 2 hijos\n",
    "BST_probe.delete(50)        # Eliminar nodo 1 hijo\n",
    "BST_probe.delete(-1)        # Eliminar nodo 0 hijos \n",
    "BST_probe.print_pretty()"
   ]
  },
  {
   "cell_type": "markdown",
   "id": "0011b373",
   "metadata": {},
   "source": [
    "- **BST Search()**"
   ]
  },
  {
   "cell_type": "code",
   "execution_count": 5,
   "id": "c3e76806",
   "metadata": {},
   "outputs": [
    {
     "name": "stdout",
     "output_type": "stream",
     "text": [
      "True\n",
      "True\n",
      "True\n",
      "False\n",
      "\n",
      "2\n",
      " \\\n",
      " 4\n",
      "  \\\n",
      "  6\n",
      "   \\\n",
      "   8_\n",
      "     \\\n",
      "    10___\n",
      "         \\\n",
      "        14_\n",
      "       /   \\\n",
      "      11  16_\n",
      "             \\\n",
      "            18_\n",
      "               \\\n",
      "              20_\n",
      "                 \\\n",
      "                22_\n",
      "                   \\\n",
      "                  24_\n",
      "                     \\\n",
      "                    26_\n",
      "                       \\\n",
      "                      28_\n",
      "                         \\\n",
      "                        30_\n",
      "                           \\\n",
      "                          32_\n",
      "                             \\\n",
      "                            34_\n",
      "                               \\\n",
      "                              36_\n",
      "                                 \\\n",
      "                                38_\n",
      "                                   \\\n",
      "                                  40_\n",
      "                                     \\\n",
      "                                    42_\n",
      "                                       \\\n",
      "                                      44_\n",
      "                                         \\\n",
      "                                        46_\n",
      "                                           \\\n",
      "                                          48_\n",
      "                                             \\\n",
      "                                            51\n"
     ]
    }
   ],
   "source": [
    "# Casos posibles Search()\n",
    "print(BST_probe.search(2))      # Busqueda valor menor\n",
    "print(BST_probe.search(20))     # Busqueda valor central\n",
    "print(BST_probe.search(51))     # Busqueda valor mayor\n",
    "print(BST_probe.search(100))    # Busqueda valor inexistente\n",
    "BST_probe.print_pretty()"
   ]
  },
  {
   "cell_type": "markdown",
   "id": "abd7811d",
   "metadata": {},
   "source": [
    "\n",
    "#### **2 - AVL Tree**\n",
    "---"
   ]
  },
  {
   "cell_type": "markdown",
   "id": "53dfca9d",
   "metadata": {},
   "source": [
    "2.1 Estructura AVL\n",
    "\n",
    "1.2 Instanciar y probar clase AVL\n",
    "- Insert()\n",
    "- Delete()\n",
    "- Search()"
   ]
  },
  {
   "cell_type": "code",
   "execution_count": 6,
   "id": "3e6443e2",
   "metadata": {},
   "outputs": [
    {
     "name": "stdout",
     "output_type": "stream",
     "text": [
      "\n",
      "            ______________32_______\n",
      "           /                       \\\n",
      "    ______16_______             __40___\n",
      "   /               \\           /       \\\n",
      "  _8___         __24___       36_     44___\n",
      " /     \\       /       \\     /   \\   /     \\\n",
      " 4    12_     20_     28_   34  38  42    48_\n",
      "/ \\  /   \\   /   \\   /   \\               /   \\\n",
      "2 6 10  14  18  22  26  30              46  50\n"
     ]
    }
   ],
   "source": [
    "# Instanciar AVL y agregar 25 elementos \n",
    "AVL_probe = AVLTree()\n",
    "for i in range(2,52,2):\n",
    "    AVL_probe.insert(i)\n",
    "AVL_probe.print_pretty()"
   ]
  },
  {
   "cell_type": "markdown",
   "id": "0d36729b",
   "metadata": {},
   "source": [
    "-  **AVL Insert()**"
   ]
  },
  {
   "cell_type": "code",
   "execution_count": 7,
   "id": "caa46aa6",
   "metadata": {},
   "outputs": [
    {
     "name": "stdout",
     "output_type": "stream",
     "text": [
      "\n",
      "                ______________32_______\n",
      "               /                       \\\n",
      "      ________16_______             __40_______\n",
      "     /                 \\           /           \\\n",
      "    _8_____         __24___       36_       __48_\n",
      "   /       \\       /       \\     /   \\     /     \\\n",
      "   4    __12_     20_     28_   34  38    44_   50_\n",
      "  / \\  /     \\   /   \\   /   \\           /   \\     \\\n",
      "  2 6 10_   14  18  22  26  30          42  46    51\n",
      " /       \\\n",
      "-1      11\n"
     ]
    }
   ],
   "source": [
    "# Casos posibles de Insert()\n",
    "AVL_probe.insert(-1)        # Insertar valor menor \n",
    "AVL_probe.insert(11)        # Insertar valor medio \n",
    "AVL_probe.insert(51)        # Insertar valor mayor \n",
    "AVL_probe.print_pretty()"
   ]
  },
  {
   "cell_type": "markdown",
   "id": "41e7262e",
   "metadata": {},
   "source": [
    "- **AVL Delete()**"
   ]
  },
  {
   "cell_type": "code",
   "execution_count": 8,
   "id": "24d39f88",
   "metadata": {},
   "outputs": [
    {
     "name": "stdout",
     "output_type": "stream",
     "text": [
      "\n",
      "            ______________32_______\n",
      "           /                       \\\n",
      "    ______16_______             __40_______\n",
      "   /               \\           /           \\\n",
      "  _8___         __24___       36_       __48_\n",
      " /     \\       /       \\     /   \\     /     \\\n",
      " 4    11_     20_     28_   34  38    44_   51\n",
      "/ \\  /   \\   /   \\   /   \\           /   \\\n",
      "2 6 10  14  18  22  26  30          42  46\n"
     ]
    }
   ],
   "source": [
    "# Casos posibles Delete()\n",
    "AVL_probe.delete(12)        # Eliminar nodo 2 hijos\n",
    "AVL_probe.delete(50)        # Eliminar nodo 1 hijo\n",
    "AVL_probe.delete(-1)        # Eliminar nodo 0 hijos \n",
    "AVL_probe.print_pretty()"
   ]
  },
  {
   "cell_type": "markdown",
   "id": "0937ddaa",
   "metadata": {},
   "source": [
    "- **AVL Search()**\n"
   ]
  },
  {
   "cell_type": "code",
   "execution_count": 9,
   "id": "c49f9555",
   "metadata": {},
   "outputs": [
    {
     "name": "stdout",
     "output_type": "stream",
     "text": [
      "True\n",
      "True\n",
      "True\n",
      "False\n",
      "\n",
      "            ______________32_______\n",
      "           /                       \\\n",
      "    ______16_______             __40_______\n",
      "   /               \\           /           \\\n",
      "  _8___         __24___       36_       __48_\n",
      " /     \\       /       \\     /   \\     /     \\\n",
      " 4    11_     20_     28_   34  38    44_   51\n",
      "/ \\  /   \\   /   \\   /   \\           /   \\\n",
      "2 6 10  14  18  22  26  30          42  46\n"
     ]
    }
   ],
   "source": [
    "# Casos posibles Search()\n",
    "print(AVL_probe.search(2))      # Busqueda valor menor\n",
    "print(AVL_probe.search(20))     # Busqueda valor central\n",
    "print(AVL_probe.search(51))     # Busqueda valor mayor\n",
    "print(AVL_probe.search(100))    # Busqueda valor inexistente\n",
    "AVL_probe.print_pretty()"
   ]
  },
  {
   "cell_type": "markdown",
   "id": "8e1552b5",
   "metadata": {},
   "source": [
    "\n",
    "#### **3 - Evaluación de Complejidad**\n",
    "---"
   ]
  },
  {
   "cell_type": "code",
   "execution_count": 10,
   "id": "1ea02680",
   "metadata": {},
   "outputs": [
    {
     "name": "stdout",
     "output_type": "stream",
     "text": [
      "Execution time: 0.0130910000 secs\n"
     ]
    }
   ],
   "source": [
    "import time\n",
    "\n",
    "def time_function(func, *args, **kwargs):\n",
    "    start_time = time.perf_counter()\n",
    "    result = func(*args, **kwargs)\n",
    "    end_time = time.perf_counter()\n",
    "    duration = end_time - start_time\n",
    "    print(f'Execution time: {duration:.10f} secs')\n",
    "    return duration\n",
    "\n",
    "# Example usage:\n",
    "def sample_function(n):\n",
    "    # Sample function that calculates the sum of numbers from 0 to n-1\n",
    "    return sum(range(n))\n",
    "\n",
    "# Time the sample_function execution with argument 1000000\n",
    "result = time_function(sample_function, 1000000)\n",
    "\n",
    "# Ejemplo con clase de BST:\n",
    "# insert_time = time_function(tree.insert, 42)"
   ]
  },
  {
   "cell_type": "markdown",
   "id": "43bb355d",
   "metadata": {},
   "source": [
    "---\n",
    "#### **5K Nodos**"
   ]
  },
  {
   "cell_type": "markdown",
   "id": "fe52fb71",
   "metadata": {},
   "source": [
    "\n",
    "\n",
    "- **3.1.A \tBST 5k nodos O()**\n"
   ]
  },
  {
   "cell_type": "code",
   "execution_count": 11,
   "id": "dd379322",
   "metadata": {},
   "outputs": [],
   "source": [
    "BST_5K_worse = BinarySearchTree()\n",
    "for i in range(5000):\n",
    "    BST_5K_worse.insert(i)\n",
    "#BST_5K_worse.print_pretty()"
   ]
  },
  {
   "cell_type": "markdown",
   "id": "0304c784",
   "metadata": {},
   "source": [
    "- **3.1.B \tAVL 5k nodos O()**"
   ]
  },
  {
   "cell_type": "code",
   "execution_count": 12,
   "id": "079185c8",
   "metadata": {},
   "outputs": [],
   "source": [
    "AVL_5K_worse = AVLTree()\n",
    "for i in range(5000):\n",
    "    AVL_5K_worse.insert(i)\n",
    "#AVL_5K_worse.print_pretty()"
   ]
  },
  {
   "cell_type": "markdown",
   "id": "9b250de9",
   "metadata": {},
   "source": [
    "#### **10K Nodos**"
   ]
  },
  {
   "cell_type": "markdown",
   "id": "0387376f",
   "metadata": {},
   "source": [
    "- **3.8.A BST 10K nodos O()**"
   ]
  },
  {
   "cell_type": "code",
   "execution_count": 13,
   "id": "81c73c0b",
   "metadata": {},
   "outputs": [],
   "source": [
    "BST_10K_worse = BinarySearchTree()\n",
    "for i in range(10000):\n",
    "    BST_10K_worse.insert(i)\n",
    "#BST_5K_worse.print_pretty()"
   ]
  },
  {
   "cell_type": "markdown",
   "id": "ef46efb6",
   "metadata": {},
   "source": [
    "- **3.8.B \tAVL 10k nodos O()**"
   ]
  },
  {
   "cell_type": "code",
   "execution_count": 14,
   "id": "0252235f",
   "metadata": {},
   "outputs": [],
   "source": [
    "AVL_10K_worse = AVLTree()\n",
    "for i in range(10000):\n",
    "    AVL_10K_worse.insert(i)\n",
    "#AVL_5K_worse.print_pretty()"
   ]
  },
  {
   "cell_type": "markdown",
   "id": "22e6bbd0",
   "metadata": {},
   "source": [
    "#### **25K Nodos**"
   ]
  },
  {
   "cell_type": "markdown",
   "id": "a65bd41c",
   "metadata": {},
   "source": [
    "- **3.8.A BST 25K nodos O()**"
   ]
  },
  {
   "cell_type": "code",
   "execution_count": 15,
   "id": "02f628dc",
   "metadata": {},
   "outputs": [],
   "source": [
    "BST_25K_worse = BinarySearchTree()\n",
    "for i in range(25000):\n",
    "    BST_25K_worse.insert(i)\n",
    "#BST_5K_worse.print_pretty()"
   ]
  },
  {
   "cell_type": "markdown",
   "id": "3e17cefc",
   "metadata": {},
   "source": [
    "- **3.8.B \tAVL 25k nodos O()**"
   ]
  },
  {
   "cell_type": "code",
   "execution_count": 16,
   "id": "a9fd0627",
   "metadata": {},
   "outputs": [],
   "source": [
    "AVL_25K_worse = AVLTree()\n",
    "for i in range(25000):\n",
    "    AVL_25K_worse.insert(i)\n",
    "#AVL_5K_worse.print_pretty()"
   ]
  },
  {
   "cell_type": "markdown",
   "id": "79b07b61",
   "metadata": {},
   "source": [
    "---\n"
   ]
  },
  {
   "cell_type": "markdown",
   "id": "6e38a5f9",
   "metadata": {},
   "source": [
    "##### **Insert()**"
   ]
  },
  {
   "cell_type": "markdown",
   "id": "3b7f3a53",
   "metadata": {},
   "source": [
    "- **3.2 \tO() 25 valores**\n"
   ]
  },
  {
   "cell_type": "code",
   "execution_count": 17,
   "id": "62966ad6",
   "metadata": {},
   "outputs": [],
   "source": [
    "# BIG O() Para 5K 10K 25K\n",
    "Insert_BIG_O_Values = [50000, 50001, 50002, 50003, 50004, \n",
    "                       50005, 50006, 50007, 50008, 50009,\n",
    "                       50010, 50011, 50012, 50013, 50014, \n",
    "                       50015, 50016, 50017, 50018, 50019,\n",
    "                       50020, 50021, 50022, 50023, 50024]\n",
    "\n",
    "# Inserta los valores BIG O() en la estructura BST o AVL\n",
    "def insert_BIG_O(Structure, values):\n",
    "    for value in values:\n",
    "        Structure.insert(value)\n",
    "\n",
    "# 3.7 Listas de primedio de tiempo insert()\n",
    "BST_insert_times = [\"0\"]\n",
    "AVL_insert_times = [\"0\"]\n"
   ]
  },
  {
   "cell_type": "markdown",
   "id": "583ffcc2",
   "metadata": {},
   "source": [
    "- **3.3.A \tBST Insert() O()**"
   ]
  },
  {
   "cell_type": "code",
   "execution_count": 18,
   "id": "06e84d04",
   "metadata": {},
   "outputs": [
    {
     "name": "stdout",
     "output_type": "stream",
     "text": [
      "Execution time: 0.0152222000 secs\n",
      "['0', '0.0006088880']\n",
      "Execution time: 0.0220845000 secs\n",
      "['0', '0.0006088880', '0.0008833800']\n",
      "Execution time: 0.0614799000 secs\n",
      "['0', '0.0006088880', '0.0008833800', '0.0024591960']\n"
     ]
    }
   ],
   "source": [
    "# 5K\n",
    "BST_Insert_Time_05K = time_function(insert_BIG_O, BST_5K_worse, Insert_BIG_O_Values)/25\n",
    "BST_insert_times.append(f'{BST_Insert_Time_05K:.10f}') # Tiempo promedio 25 nodos O()\n",
    "#BST_5K_worse.print_pretty()\n",
    "print(BST_insert_times)\n",
    "\n",
    "# 10K\n",
    "BST_Insert_Time_10K = time_function(insert_BIG_O, BST_10K_worse, Insert_BIG_O_Values)/25\n",
    "BST_insert_times.append(f'{BST_Insert_Time_10K:.10f}') # Tiempo promedio 25 nodos O()\n",
    "#BST_10K_worse.print_pretty()\n",
    "print(BST_insert_times)\n",
    "\n",
    "# 25K\n",
    "BST_Insert_Time_25K = time_function(insert_BIG_O, BST_25K_worse, Insert_BIG_O_Values)/25\n",
    "BST_insert_times.append(f'{BST_Insert_Time_25K:.10f}') # Tiempo promedio 25 nodos O()\n",
    "#BST_25K_worse.print_pretty()\n",
    "print(BST_insert_times)"
   ]
  },
  {
   "cell_type": "markdown",
   "id": "43f329f5",
   "metadata": {},
   "source": [
    "- **3.3.B \tAVL Inserr() O()**"
   ]
  },
  {
   "cell_type": "code",
   "execution_count": 19,
   "id": "c9bb0770",
   "metadata": {},
   "outputs": [
    {
     "name": "stdout",
     "output_type": "stream",
     "text": [
      "Execution time: 0.0000815000 secs\n",
      "['0', '0.0000032600']\n",
      "Execution time: 0.0000853000 secs\n",
      "['0', '0.0000032600', '0.0000034120']\n",
      "Execution time: 0.0000843000 secs\n",
      "['0', '0.0000032600', '0.0000034120', '0.0000033720']\n"
     ]
    }
   ],
   "source": [
    "# 5K\n",
    "AVL_Insert_Time_05K = time_function(insert_BIG_O, AVL_5K_worse, Insert_BIG_O_Values)/25\n",
    "AVL_insert_times.append(f'{AVL_Insert_Time_05K:.10f}') # Tiempo promedio 25 nodos O()\n",
    "#AVL_5K_worse.print_pretty()\n",
    "print(AVL_insert_times)\n",
    "\n",
    "# 10K\n",
    "AVL_Insert_Time_10K = time_function(insert_BIG_O, AVL_10K_worse, Insert_BIG_O_Values)/25\n",
    "AVL_insert_times.append(f'{AVL_Insert_Time_10K:.10f}') # Tiempo promedio 25 nodos O()\n",
    "#AVL_10K_worse.print_pretty()\n",
    "print(AVL_insert_times)\n",
    "\n",
    "# 25K\n",
    "AVL_Insert_Time_25K = time_function(insert_BIG_O, AVL_25K_worse, Insert_BIG_O_Values)/25\n",
    "AVL_insert_times.append(f'{AVL_Insert_Time_25K:.10f}') # Tiempo promedio 25 nodos O()\n",
    "#AVL_25K_worse.print_pretty()\n",
    "print(AVL_insert_times)"
   ]
  },
  {
   "cell_type": "markdown",
   "id": "0ce0e51a",
   "metadata": {},
   "source": [
    "##### **Search()**\n"
   ]
  },
  {
   "cell_type": "markdown",
   "id": "a3dd5c17",
   "metadata": {},
   "source": [
    "- **3.5\tO() 25 valores (NO EXISTEN)**"
   ]
  },
  {
   "cell_type": "code",
   "execution_count": 20,
   "id": "412c8e05",
   "metadata": {},
   "outputs": [],
   "source": [
    "# BIG O() Para 5K 10K 25K\n",
    "Search_BIG_O_Values = [100000, 100001, 100002, 100003, 100004,\n",
    "                       100005, 100006, 100007, 100008, 100009, \n",
    "                       100010, 100011, 100012, 100013, 100014,\n",
    "                       100015, 100016, 100017, 100018, 100019, \n",
    "                       100020, 100021, 100022, 100023, 100024]\n",
    "\n",
    "# Busca los valores BIG O() en la estructura BST o AVL\n",
    "def search_BIG_O(Structure, values):\n",
    "    for value in values:\n",
    "        Structure.search(value)\n",
    "\n",
    "# 3.7 Listas de primedio de tiempo search()\n",
    "BST_search_times = [\"0\"]\n",
    "AVL_search_times = [\"0\"]\n"
   ]
  },
  {
   "cell_type": "markdown",
   "id": "292f4686",
   "metadata": {},
   "source": [
    "- **3.6.A\tBST Search()**"
   ]
  },
  {
   "cell_type": "code",
   "execution_count": 21,
   "id": "0e68760b",
   "metadata": {},
   "outputs": [
    {
     "name": "stdout",
     "output_type": "stream",
     "text": [
      "Execution time: 0.0130342000 secs\n",
      "['0', '0.0005213680']\n",
      "Execution time: 0.0255039000 secs\n",
      "['0', '0.0005213680', '0.0010201560']\n",
      "Execution time: 0.0655464000 secs\n",
      "['0', '0.0005213680', '0.0010201560', '0.0026218560']\n"
     ]
    }
   ],
   "source": [
    "# 5K\n",
    "BST_Search_Time_05K = time_function(search_BIG_O, BST_5K_worse, Search_BIG_O_Values)/25\n",
    "BST_search_times.append(f'{BST_Search_Time_05K:.10f}') # Tiempo promedio 25 nodos O()\n",
    "#BST_5K_worse.print_pretty()\n",
    "print(BST_search_times)\n",
    "\n",
    "# 10K\n",
    "BST_Search_Time_10K = time_function(search_BIG_O, BST_10K_worse, Search_BIG_O_Values)/25\n",
    "BST_search_times.append(f'{BST_Search_Time_10K:.10f}') # Tiempo promedio 25 nodos O()\n",
    "#BST_10K_worse.print_pretty()\n",
    "print(BST_search_times)\n",
    "\n",
    "# 25K\n",
    "BST_Search_Time_25K = time_function(search_BIG_O, BST_25K_worse, Search_BIG_O_Values)/25\n",
    "BST_search_times.append(f'{BST_Search_Time_25K:.10f}') # Tiempo promedio 25 nodos O()\n",
    "#BST_25K_worse.print_pretty()\n",
    "print(BST_search_times)"
   ]
  },
  {
   "cell_type": "markdown",
   "id": "e40b7937",
   "metadata": {},
   "source": [
    "- **3.6.B\tAVL Search()**"
   ]
  },
  {
   "cell_type": "code",
   "execution_count": 22,
   "id": "d24d26f2",
   "metadata": {},
   "outputs": [
    {
     "name": "stdout",
     "output_type": "stream",
     "text": [
      "Execution time: 0.0000160000 secs\n",
      "['0', '0.0000006400']\n",
      "Execution time: 0.0000161000 secs\n",
      "['0', '0.0000006400', '0.0000006440']\n",
      "Execution time: 0.0000169000 secs\n",
      "['0', '0.0000006400', '0.0000006440', '0.0000006760']\n"
     ]
    }
   ],
   "source": [
    "# 5K\n",
    "AVL_Time_05K = time_function(search_BIG_O, AVL_5K_worse, Search_BIG_O_Values)/25\n",
    "AVL_search_times.append(f'{AVL_Time_05K:.10f}')    # Tiempo promedio 25 nodos O()\n",
    "#AVL_5K_worse.print_pretty()\n",
    "print(AVL_search_times)\n",
    "\n",
    "# 10K\n",
    "AVL_Time_10K = time_function(search_BIG_O, AVL_10K_worse, Search_BIG_O_Values)/25\n",
    "AVL_search_times.append(f'{AVL_Time_10K:.10f}')   # Tiempo promedio 25 nodos O()\n",
    "#AVL_10K_worse.print_pretty()\n",
    "print(AVL_search_times)\n",
    "\n",
    "# 25K\n",
    "AVL_Time_25K = time_function(search_BIG_O, AVL_25K_worse, Search_BIG_O_Values)/25\n",
    "AVL_search_times.append(f'{AVL_Time_25K:.10f}') # Tiempo promedio 25 nodos O()\n",
    "#AVL_25K_worse.print_pretty()\n",
    "print(AVL_search_times)"
   ]
  },
  {
   "cell_type": "markdown",
   "id": "c4f665f0",
   "metadata": {},
   "source": [
    "---\n",
    "#### **4 - Gráfica**"
   ]
  },
  {
   "cell_type": "markdown",
   "id": "165e8bc8",
   "metadata": {},
   "source": [
    "- **Grafica Basica Insert()** "
   ]
  },
  {
   "cell_type": "code",
   "execution_count": 23,
   "id": "7e35287b",
   "metadata": {},
   "outputs": [
    {
     "name": "stdout",
     "output_type": "stream",
     "text": [
      "['0', '0.0006088880', '0.0008833800', '0.0024591960']\n",
      "['0', '0.0000032600', '0.0000034120', '0.0000033720']\n"
     ]
    },
    {
     "data": {
      "image/png": "[encoded data removed]",
      "text/plain": [
       "<Figure size 800x500 with 1 Axes>"
      ]
     },
     "metadata": {},
     "output_type": "display_data"
    }
   ],
   "source": [
    "BST_insert_times_float =  [float(item) for item in BST_insert_times]\n",
    "AVL_insert_times_float =  [float(item) for item in AVL_insert_times]\n",
    "\n",
    "print(f\"{BST_insert_times}\")\n",
    "print(f\"{AVL_insert_times}\")\n",
    "\n",
    "x = [\"0\",\"5K\", \"10K\", \"25K\"]\n",
    "\n",
    "plt.figure(figsize=(8, 5))\n",
    "plt.plot(x, BST_insert_times_float, marker='o', color='blue', label='BST Insert Times')\n",
    "plt.plot(x, AVL_insert_times_float, marker='o', color='red', label='AVL Insert Times')\n",
    "plt.title('Tiempos de inserción: BST vs AVL')\n",
    "plt.xlabel('Cantidad de nodos')\n",
    "plt.ylabel('Tiempo (segundos)')\n",
    "plt.legend()\n",
    "plt.grid(True)\n",
    "plt.show()\n"
   ]
  },
  {
   "cell_type": "markdown",
   "id": "d56cae72",
   "metadata": {},
   "source": [
    "- **Tiempos Insert() de AVL vs. BST (Doble Eje Y)**"
   ]
  },
  {
   "cell_type": "code",
   "execution_count": 24,
   "id": "349d87b7",
   "metadata": {},
   "outputs": [
    {
     "data": {
      "image/png": "[encoded data removed]",
      "text/plain": [
       "<Figure size 640x480 with 2 Axes>"
      ]
     },
     "metadata": {},
     "output_type": "display_data"
    }
   ],
   "source": [
    "# Crear figura y ejes\n",
    "fig, ax1 = plt.subplots()\n",
    "\n",
    "# Curva BST\n",
    "color1 = 'blue'\n",
    "ax1.set_xlabel('Cantidad de nodos')\n",
    "ax1.set_ylabel('Tiempo (segundos)')\n",
    "line1, = ax1.plot(x, BST_insert_times_float, color=color1, marker='o', label='BST Insert Times')\n",
    "ax1.tick_params(axis='y', labelcolor=color1)\n",
    "\n",
    "# Curva AVL con eje derecho\n",
    "ax2 = ax1.twinx()\n",
    "color2 = 'red'\n",
    "line2, = ax2.plot(x, AVL_insert_times_float, color=color2, marker='o', label='AVL Insert Times')\n",
    "ax2.set_ylim(0, max(BST_insert_times_float) * 0.008)\n",
    "ax2.tick_params(axis='y', labelcolor=color2)\n",
    "\n",
    "plt.title('Tiempos de inserción: BST vs AVL')\n",
    "lines = [line1, line2]\n",
    "labels = [line.get_label() for line in lines]\n",
    "ax1.legend(lines, labels, loc='upper left')\n",
    "\n",
    "fig.tight_layout()\n",
    "plt.show()\n",
    "\n",
    "\n"
   ]
  },
  {
   "cell_type": "markdown",
   "id": "5817e9ed",
   "metadata": {},
   "source": [
    "- **Grafica Basica Search()** "
   ]
  },
  {
   "cell_type": "code",
   "execution_count": 25,
   "id": "cff67e16",
   "metadata": {},
   "outputs": [
    {
     "name": "stdout",
     "output_type": "stream",
     "text": [
      "[0.0, 0.000521368, 0.001020156, 0.002621856]\n",
      "[0.0, 6.4e-07, 6.44e-07, 6.76e-07]\n"
     ]
    },
    {
     "data": {
      "image/png": "[encoded data removed]",
      "text/plain": [
       "<Figure size 800x500 with 1 Axes>"
      ]
     },
     "metadata": {},
     "output_type": "display_data"
    }
   ],
   "source": [
    "BST_search_times_float =  [float(item) for item in BST_search_times]\n",
    "AVL_search_times_float =  [float(item) for item in AVL_search_times]\n",
    "\n",
    "print(BST_search_times_float)\n",
    "print(AVL_search_times_float)\n",
    "\n",
    "x = [\"0\",\"5K\", \"10K\", \"25K\"]\n",
    "\n",
    "plt.figure(figsize=(8, 5))\n",
    "plt.plot(x, BST_search_times_float, marker='o', color='blue', label='BST Insert Times')\n",
    "plt.plot(x, AVL_search_times_float, marker='o', color='red', label='AVL Insert Times')\n",
    "plt.title('Tiempos de busqueda: BST vs AVL')\n",
    "plt.xlabel('Cantidad de nodos')\n",
    "plt.ylabel('Tiempo (segundos)')\n",
    "plt.legend()\n",
    "plt.grid(True)\n",
    "plt.show()"
   ]
  },
  {
   "cell_type": "markdown",
   "id": "bd5dce5b",
   "metadata": {},
   "source": [
    "- **Tiempos Search() de AVL vs. BST (Doble Eje Y)**"
   ]
  },
  {
   "cell_type": "code",
   "execution_count": 26,
   "id": "2d4c4c20",
   "metadata": {},
   "outputs": [
    {
     "data": {
      "image/png": "[encoded data removed]",
      "text/plain": [
       "<Figure size 640x480 with 2 Axes>"
      ]
     },
     "metadata": {},
     "output_type": "display_data"
    }
   ],
   "source": [
    "# Crear figura y ejes\n",
    "fig, ax1 = plt.subplots()\n",
    "\n",
    "# Curva BST\n",
    "color1 = 'blue'\n",
    "ax1.set_xlabel('Cantidad de nodos')\n",
    "ax1.set_ylabel('Tiempo (segundos)')\n",
    "line1, = ax1.plot(x, BST_search_times_float, color=color1, marker='o', label='BST Insert Times')\n",
    "ax1.tick_params(axis='y', labelcolor=color1)\n",
    "\n",
    "# Curva AVL con eje derecho\n",
    "ax2 = ax1.twinx()\n",
    "color2 = 'red'\n",
    "line2, = ax2.plot(x, AVL_search_times_float, color=color2, marker='o', label='AVL Insert Times')\n",
    "ax2.set_ylim(0, max(BST_search_times_float) * 0.002)\n",
    "ax2.tick_params(axis='y', labelcolor=color2)\n",
    "\n",
    "plt.title('Tiempos de busqueda: BST vs AVL')\n",
    "lines = [line1, line2]\n",
    "labels = [line.get_label() for line in lines]\n",
    "ax1.legend(lines, labels, loc='upper left')\n",
    "\n",
    "fig.tight_layout()\n",
    "plt.show()\n"
   ]
  }
 ],
 "metadata": {
  "kernelspec": {
   "display_name": "Python 3",
   "language": "python",
   "name": "python3"
  },
  "language_info": {
   "codemirror_mode": {
    "name": "ipython",
    "version": 3
   },
   "file_extension": ".py",
   "mimetype": "text/x-python",
   "name": "python",
   "nbconvert_exporter": "python",
   "pygments_lexer": "ipython3",
   "version": "3.13.3"
  }
 },
 "nbformat": 4,
 "nbformat_minor": 5
}
